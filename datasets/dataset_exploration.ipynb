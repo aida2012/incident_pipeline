{
 "cells": [
  {
   "cell_type": "code",
   "execution_count": 2,
   "metadata": {},
   "outputs": [
    {
     "name": "stderr",
     "output_type": "stream",
     "text": [
      "C:\\Users\\anben\\AppData\\Local\\Temp\\ipykernel_127552\\939073323.py:3: DtypeWarning: Columns (10,12,13,20,29,38,45,46,55,58,59) have mixed types. Specify dtype option on import or set low_memory=False.\n",
      "  df = pd.read_csv(\"./fire_incidents.csv\")\n"
     ]
    }
   ],
   "source": [
    "import pandas as pd\n",
    "\n",
    "df = pd.read_csv(\"./fire_incidents.csv\")\n",
    "\n"
   ]
  },
  {
   "cell_type": "code",
   "execution_count": 3,
   "metadata": {},
   "outputs": [
    {
     "data": {
      "text/plain": [
       "array(['SF', 'FM', 'HP', 'TI', 'SFO', 'DC', 'YB', 'PR', 'BN', 'OAK',\n",
       "       'San Francisco', 'Treasure Island', nan, 'Presidio', 'Brisbane',\n",
       "       'Yerba Buena', 'Treasure Isla', 'Daly City', 'Hunters Point',\n",
       "       'Fort Mason', 'AI', 'SAN FRANCISCO', 'PRESIDIO', 'TREASURE ISLAND',\n",
       "       'FORT MASON'], dtype=object)"
      ]
     },
     "execution_count": 3,
     "metadata": {},
     "output_type": "execute_result"
    }
   ],
   "source": [
    "df[\"City\"].unique()\n"
   ]
  },
  {
   "cell_type": "code",
   "execution_count": 4,
   "metadata": {},
   "outputs": [
    {
     "data": {
      "text/plain": [
       "array([nan, 'Mutual aid given', 'Mutual aid received', 'Other aid given',\n",
       "       'Automatic aid given', 'Automatic or contract aid received',\n",
       "       'N None', '5 Other aid given', '1 Mutual aid received',\n",
       "       '3 Mutual aid given', '4 Automatic aid given',\n",
       "       '2 Automatic aid received'], dtype=object)"
      ]
     },
     "execution_count": 4,
     "metadata": {},
     "output_type": "execute_result"
    }
   ],
   "source": [
    "df[\"Mutual Aid\"].unique()"
   ]
  },
  {
   "cell_type": "code",
   "execution_count": 5,
   "metadata": {},
   "outputs": [
    {
     "data": {
      "text/plain": [
       "array(['B05', 'B01', 'B03', 'B08', 'B02', 'B06', 'B07', 'B10', 'B04',\n",
       "       'B09', 'B99'], dtype=object)"
      ]
     },
     "execution_count": 5,
     "metadata": {},
     "output_type": "execute_result"
    }
   ],
   "source": [
    "df[\"Battalion\"].unique()"
   ]
  },
  {
   "cell_type": "code",
   "execution_count": 9,
   "metadata": {},
   "outputs": [
    {
     "data": {
      "text/plain": [
       "Battalion\n",
       "B01     85618\n",
       "B02    107317\n",
       "B03    103068\n",
       "B04     74689\n",
       "B05     53644\n",
       "B06     52566\n",
       "B07     40364\n",
       "B08     58753\n",
       "B09     56437\n",
       "B10     63169\n",
       "B99      3737\n",
       "Name: count, dtype: int64"
      ]
     },
     "execution_count": 9,
     "metadata": {},
     "output_type": "execute_result"
    }
   ],
   "source": [
    "df[\"Battalion\"].value_counts().sort_index()\n"
   ]
  },
  {
   "cell_type": "code",
   "execution_count": null,
   "metadata": {},
   "outputs": [],
   "source": [
    "df[\"Estimated Property Loss\"].unique()"
   ]
  },
  {
   "cell_type": "code",
   "execution_count": 12,
   "metadata": {},
   "outputs": [
    {
     "data": {
      "text/html": [
       "<div>\n",
       "<style scoped>\n",
       "    .dataframe tbody tr th:only-of-type {\n",
       "        vertical-align: middle;\n",
       "    }\n",
       "\n",
       "    .dataframe tbody tr th {\n",
       "        vertical-align: top;\n",
       "    }\n",
       "\n",
       "    .dataframe thead th {\n",
       "        text-align: right;\n",
       "    }\n",
       "</style>\n",
       "<table border=\"1\" class=\"dataframe\">\n",
       "  <thead>\n",
       "    <tr style=\"text-align: right;\">\n",
       "      <th></th>\n",
       "      <th>longitude</th>\n",
       "      <th>latitude</th>\n",
       "    </tr>\n",
       "  </thead>\n",
       "  <tbody>\n",
       "    <tr>\n",
       "      <th>0</th>\n",
       "      <td>-122.419321</td>\n",
       "      <td>37.786641</td>\n",
       "    </tr>\n",
       "    <tr>\n",
       "      <th>1</th>\n",
       "      <td>-122.413562</td>\n",
       "      <td>37.797038</td>\n",
       "    </tr>\n",
       "    <tr>\n",
       "      <th>2</th>\n",
       "      <td>-122.394751</td>\n",
       "      <td>37.794480</td>\n",
       "    </tr>\n",
       "    <tr>\n",
       "      <th>3</th>\n",
       "      <td>-122.395630</td>\n",
       "      <td>37.793790</td>\n",
       "    </tr>\n",
       "    <tr>\n",
       "      <th>4</th>\n",
       "      <td>-122.397389</td>\n",
       "      <td>37.782554</td>\n",
       "    </tr>\n",
       "    <tr>\n",
       "      <th>...</th>\n",
       "      <td>...</td>\n",
       "      <td>...</td>\n",
       "    </tr>\n",
       "    <tr>\n",
       "      <th>699357</th>\n",
       "      <td>-122.473260</td>\n",
       "      <td>37.713895</td>\n",
       "    </tr>\n",
       "    <tr>\n",
       "      <th>699358</th>\n",
       "      <td>-122.416262</td>\n",
       "      <td>37.784942</td>\n",
       "    </tr>\n",
       "    <tr>\n",
       "      <th>699359</th>\n",
       "      <td>-122.430993</td>\n",
       "      <td>37.783505</td>\n",
       "    </tr>\n",
       "    <tr>\n",
       "      <th>699360</th>\n",
       "      <td>-122.384160</td>\n",
       "      <td>37.616901</td>\n",
       "    </tr>\n",
       "    <tr>\n",
       "      <th>699361</th>\n",
       "      <td>-122.471763</td>\n",
       "      <td>37.773137</td>\n",
       "    </tr>\n",
       "  </tbody>\n",
       "</table>\n",
       "<p>699362 rows × 2 columns</p>\n",
       "</div>"
      ],
      "text/plain": [
       "         longitude   latitude\n",
       "0      -122.419321  37.786641\n",
       "1      -122.413562  37.797038\n",
       "2      -122.394751  37.794480\n",
       "3      -122.395630  37.793790\n",
       "4      -122.397389  37.782554\n",
       "...            ...        ...\n",
       "699357 -122.473260  37.713895\n",
       "699358 -122.416262  37.784942\n",
       "699359 -122.430993  37.783505\n",
       "699360 -122.384160  37.616901\n",
       "699361 -122.471763  37.773137\n",
       "\n",
       "[699362 rows x 2 columns]"
      ]
     },
     "execution_count": 12,
     "metadata": {},
     "output_type": "execute_result"
    }
   ],
   "source": [
    "df[['longitude', 'latitude']] = df['point'].str.extract(r'\\((-?\\d+\\.\\d+) (-?\\d+\\.\\d+)\\)').astype(float)\n",
    "df[[\"longitude\",\"latitude\"]]"
   ]
  },
  {
   "cell_type": "code",
   "execution_count": 14,
   "metadata": {},
   "outputs": [
    {
     "data": {
      "text/plain": [
       "Incident Number                                      0\n",
       "Exposure Number                                      0\n",
       "ID                                                   0\n",
       "Address                                            315\n",
       "Incident Date                                        0\n",
       "Call Number                                          0\n",
       "Alarm DtTm                                           1\n",
       "Arrival DtTm                                        75\n",
       "Close DtTm                                          15\n",
       "City                                              1925\n",
       "zipcode                                            169\n",
       "Battalion                                            0\n",
       "Station Area                                       822\n",
       "Box                                             297847\n",
       "Suppression Units                                    0\n",
       "Suppression Personnel                                0\n",
       "EMS Units                                            0\n",
       "EMS Personnel                                        0\n",
       "Other Units                                          0\n",
       "Other Personnel                                      0\n",
       "First Unit On Scene                             369538\n",
       "Estimated Property Loss                         564506\n",
       "Estimated Contents Loss                         557959\n",
       "Fire Fatalities                                      0\n",
       "Fire Injuries                                        0\n",
       "Civilian Fatalities                                  0\n",
       "Civilian Injuries                                    0\n",
       "Number of Alarms                                     0\n",
       "Primary Situation                                   16\n",
       "Mutual Aid                                      336088\n",
       "Action Taken Primary                               106\n",
       "Action Taken Secondary                          655771\n",
       "Action Taken Other                              693627\n",
       "Detector Alerted Occupants                      663410\n",
       "Property Use                                      3159\n",
       "Area of Fire Origin                             663697\n",
       "Ignition Cause                                  663701\n",
       "Ignition Factor Primary                         666004\n",
       "Ignition Factor Secondary                       699108\n",
       "Heat Source                                     663699\n",
       "Item First Ignited                              663701\n",
       "Human Factors Associated with Ignition          666622\n",
       "Structure Type                                  689286\n",
       "Structure Status                                690344\n",
       "Floor of Fire Origin                            689592\n",
       "Fire Spread                                     696220\n",
       "No Flame Spread                                 686219\n",
       "Number of floors with minimum damage            692723\n",
       "Number of floors with significant damage        692731\n",
       "Number of floors with heavy damage              692748\n",
       "Number of floors with extreme damage            692746\n",
       "Detectors Present                               690344\n",
       "Detector Type                                   694452\n",
       "Detector Operation                              694490\n",
       "Detector Effectiveness                          695961\n",
       "Detector Failure Reason                         699096\n",
       "Automatic Extinguishing System Present          690286\n",
       "Automatic Extinguishing Sytem Type              698224\n",
       "Automatic Extinguishing Sytem Perfomance        698221\n",
       "Automatic Extinguishing Sytem Failure Reason    699280\n",
       "Number of Sprinkler Heads Operating             692371\n",
       "Supervisor District                              10896\n",
       "neighborhood_district                            10701\n",
       "point                                              642\n",
       "data_as_of                                           0\n",
       "data_loaded_at                                       0\n",
       "latitude                                           653\n",
       "longitude                                          653\n",
       "dtype: int64"
      ]
     },
     "execution_count": 14,
     "metadata": {},
     "output_type": "execute_result"
    }
   ],
   "source": [
    "pd.set_option('display.max_rows', None)  \n",
    "pd.set_option('display.max_columns', None)  \n",
    "pd.set_option('display.expand_frame_repr', False)  \n",
    "\n",
    "df.isnull().sum()\n"
   ]
  },
  {
   "cell_type": "code",
   "execution_count": 4,
   "metadata": {},
   "outputs": [
    {
     "data": {
      "text/plain": [
       "10896"
      ]
     },
     "execution_count": 4,
     "metadata": {},
     "output_type": "execute_result"
    }
   ],
   "source": [
    "df[\"Supervisor District\"].isnull().sum()"
   ]
  },
  {
   "cell_type": "code",
   "execution_count": 6,
   "metadata": {},
   "outputs": [
    {
     "data": {
      "text/plain": [
       "642"
      ]
     },
     "execution_count": 6,
     "metadata": {},
     "output_type": "execute_result"
    }
   ],
   "source": [
    "df[\"point\"].isnull().sum()"
   ]
  },
  {
   "cell_type": "code",
   "execution_count": null,
   "metadata": {},
   "outputs": [],
   "source": []
  }
 ],
 "metadata": {
  "kernelspec": {
   "display_name": "Python 3",
   "language": "python",
   "name": "python3"
  },
  "language_info": {
   "codemirror_mode": {
    "name": "ipython",
    "version": 3
   },
   "file_extension": ".py",
   "mimetype": "text/x-python",
   "name": "python",
   "nbconvert_exporter": "python",
   "pygments_lexer": "ipython3",
   "version": "3.11.9"
  }
 },
 "nbformat": 4,
 "nbformat_minor": 2
}
